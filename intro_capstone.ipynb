{
 "cells": [
  {
   "cell_type": "markdown",
   "metadata": {},
   "source": [
    "<h1>Describing the business proplem and the target audience :</h1>"
   ]
  },
  {
   "cell_type": "markdown",
   "metadata": {},
   "source": [
    "<h4>In my capstone project i will to make a project that targets the skateholders willing to open a new Italian food restaurant in the city of London by analysing the data of London and its Boroughs and then suggesting the right vicinity to start the restaurant project in by observing Boroughs with less restaurants than others which can target a lot of counsumers in that area which includes people that don't seem to have this service in their area.</h4>"
   ]
  },
  {
   "cell_type": "markdown",
   "metadata": {},
   "source": [
    "<h4>I think that the targeted skateholders should care about this solve for the proplem as it increase the chance of their project to rise and shine letting them upgrade and and even spread a series of their restaurant maybe which can grant them a considered place in the hot competition of food service which can be tricky sometimes.</h4>"
   ]
  },
  {
   "cell_type": "markdown",
   "metadata": {},
   "source": []
  }
 ],
 "metadata": {
  "kernelspec": {
   "display_name": "",
   "name": ""
  },
  "language_info": {
   "name": ""
  }
 },
 "nbformat": 4,
 "nbformat_minor": 4
}
